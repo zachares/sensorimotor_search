{
 "cells": [
  {
   "cell_type": "code",
   "execution_count": 2,
   "metadata": {},
   "outputs": [],
   "source": [
    "from __future__ import print_function\n",
    "import os\n",
    "import sys\n",
    "import time\n",
    "import datetime\n",
    "\n",
    "import argparse\n",
    "import collections\n",
    "import random\n",
    "import numpy as np\n",
    "\n",
    "import torch\n",
    "import torch.nn as nn\n",
    "import torch.nn.functional as F\n",
    "import torch.optim as optim\n",
    "import torch.autograd as autograd\n",
    "from torch.utils.data import Dataset, DataLoader\n",
    "from torch.utils.data.sampler import SubsetRandomSampler\n",
    "from torchvision import transforms, utils\n",
    "\n",
    "from tensorboardX import SummaryWriter\n",
    "from dataloader import *\n",
    "import yaml\n",
    "\n",
    "from models import *\n",
    "from utils import *\n",
    "\n",
    "import matplotlib.pyplot as plt \n",
    "from shutil import copyfile"
   ]
  },
  {
   "cell_type": "code",
   "execution_count": 6,
   "metadata": {},
   "outputs": [],
   "source": [
    "with open(\"config_params.yml\", 'r') as ymlfile:\n",
    "    cfg = yaml.safe_load(ymlfile)\n",
    "    \n",
    "filename_list = []\n",
    "\n",
    "for file in os.listdir(cfg['dataloading_params']['dataset_path']):\n",
    "    if file.endswith(\".h5\"):\n",
    "        filename_list.append(cfg['dataloading_params']['dataset_path'] + file)\n",
    "list_index = 0"
   ]
  },
  {
   "cell_type": "code",
   "execution_count": 8,
   "metadata": {},
   "outputs": [
    {
     "data": {
      "image/png": "[encoded data removed]",
      "text/plain": [
       "<Figure size 432x288 with 1 Axes>"
      ]
     },
     "metadata": {
      "needs_background": "light"
     },
     "output_type": "display_data"
    }
   ],
   "source": [
    "dataset = h5py.File(filename_list[list_index], 'r', swmr=True, libver = 'latest')\n",
    "\n",
    "for dataset_index in range(100,110):\n",
    "    curr_image = dataset[\"curr_image\"][dataset_index]\n",
    "    \n",
    "    plt.imshow(curr_image)\n",
    "\n",
    "dataset.close()\n"
   ]
  },
  {
   "cell_type": "code",
   "execution_count": null,
   "metadata": {},
   "outputs": [],
   "source": []
  }
 ],
 "metadata": {
  "kernelspec": {
   "display_name": "Python 3",
   "language": "python",
   "name": "python3"
  },
  "language_info": {
   "codemirror_mode": {
    "name": "ipython",
    "version": 3
   },
   "file_extension": ".py",
   "mimetype": "text/x-python",
   "name": "python",
   "nbconvert_exporter": "python",
   "pygments_lexer": "ipython3",
   "version": "3.5.2"
  }
 },
 "nbformat": 4,
 "nbformat_minor": 2
}
